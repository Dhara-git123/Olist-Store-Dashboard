import pandas as pd
import matplotlib.pyplot as plt
import seaborn as sns
import os

base_path = r'C:/Users/sidpa/Data_set'  
file_names = {
    "customers": "olist_customers_dataset.csv",
    "orders": "olist_orders_dataset.csv",
    "order_items": "olist_order_items_dataset.csv",
    "order_payments": "olist_order_payments_dataset.csv",
    "order_reviews": "olist_order_reviews_dataset.csv",
    "products": "olist_products_dataset.csv",
    "sellers": "olist_sellers_dataset.csv",
    "category_translation": "product_category_name_translation.csv"
}


data = {}
for key, file in file_names.items():
    file_path = os.path.join(base_path, file)
    data[key] = pd.read_csv(file_path)

orders_customers = pd.merge(orders, customers, on='customer_id')


orders_full = pd.merge(orders_customers, order_payments, on='order_id')


order_items_products = pd.merge(order_items, products, on='product_id', how='left')

orders_full = pd.merge(orders_full, order_reviews, on='order_id', how='left')


order_items_products = pd.merge(order_items_products, category_translation,
                                on='product_category_name', how='left')
orders['delivery_time_days'] = (orders['order_delivered_customer_date'] - orders['order_purchase_timestamp']).dt.days


orders['estimated_delay_days'] = (orders['order_delivered_customer_date'] - orders['order_estimated_delivery_date']).dt.days


orders['approval_time_hrs'] = (orders['order_approved_at'] - orders['order_purchase_timestamp']).dt.total_seconds() / 3600

orders.to_csv("clean_orders.csv", index=False)
orders_full.to_csv("orders_full.csv", index=False)
order_items_products.to_csv("order_items_products.csv", index=False)

